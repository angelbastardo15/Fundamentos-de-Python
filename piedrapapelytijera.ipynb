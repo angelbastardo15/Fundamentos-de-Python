{
 "cells": [
  {
   "cell_type": "code",
   "execution_count": 17,
   "metadata": {},
   "outputs": [
    {
     "name": "stdout",
     "output_type": "stream",
     "text": [
      "Pierdes! papel Cubre piedra\n",
      "Empate!\n",
      "Ganas! tijeras corta papel\n",
      "Ganas! tijeras corta Piedra\n",
      "Pierdes! tijeras Corta papel\n",
      "Empate!\n",
      "Ese no es un caracter valido para jugar, chequea tu opción de nuevo!\n",
      "Ganas! tijeras corta papel\n",
      "Empate!\n",
      "Ganas! papel Cubre Piedra\n",
      "Empate!\n",
      "Pierdes! papel Cubre piedra\n",
      "Ese no es un caracter valido para jugar, chequea tu opción de nuevo!\n",
      "Ese no es un caracter valido para jugar, chequea tu opción de nuevo!\n",
      "Ese no es un caracter valido para jugar, chequea tu opción de nuevo!\n",
      "Ese no es un caracter valido para jugar, chequea tu opción de nuevo!\n",
      "Ese no es un caracter valido para jugar, chequea tu opción de nuevo!\n",
      "Ese no es un caracter valido para jugar, chequea tu opción de nuevo!\n",
      "Ese no es un caracter valido para jugar, chequea tu opción de nuevo!\n",
      "Ese no es un caracter valido para jugar, chequea tu opción de nuevo!\n",
      "Ese no es un caracter valido para jugar, chequea tu opción de nuevo!\n",
      "Ese no es un caracter valido para jugar, chequea tu opción de nuevo!\n"
     ]
    }
   ],
   "source": [
    "from random import randint\n",
    "\n",
    "\n",
    "t = (\"Piedra\", \"papel\", \"tijeras\")\n",
    "\n",
    "\n",
    "computer = t[randint(0,2)]\n",
    "\n",
    "player = False\n",
    "\n",
    "while player == False:\n",
    "\n",
    "    player = input(\"Piedra, papel, tijeras?\")\n",
    "    if player == computer:\n",
    "        print (\"Empate!\")\n",
    "    elif player == \"piedra\":\n",
    "        if computer == \"papel\":\n",
    "            print (\"Pierdes!\", computer, \"Cubre\", player)\n",
    "        else:\n",
    "            print (\"Ganas!\", player, \"Destruye\", computer)\n",
    "    elif player == \"papel\":\n",
    "        if computer == \"tijeras\":\n",
    "            print (\"Pierdes!\", computer, \"Corta\", player)\n",
    "        else:\n",
    "            print (\"Ganas!\", player, \"Cubre\", computer)\n",
    "    elif player == \"tijeras\":\n",
    "        if computer == \"piedra\":\n",
    "            print (\"Pierdes!\", computer, \"Destruye\", player)\n",
    "        else:\n",
    "            print (\"Ganas!\", player, \"corta\", computer)\n",
    "    else:\n",
    "        print(\"Ese no es un caracter valido para jugar, chequea tu opción de nuevo!\")\n",
    "\n",
    "    player = False\n",
    "    computer = t[randint(0,2)]"
   ]
  }
 ],
 "metadata": {
  "kernelspec": {
   "display_name": "Python 3",
   "language": "python",
   "name": "python3"
  },
  "language_info": {
   "codemirror_mode": {
    "name": "ipython",
    "version": 3
   },
   "file_extension": ".py",
   "mimetype": "text/x-python",
   "name": "python",
   "nbconvert_exporter": "python",
   "pygments_lexer": "ipython3",
   "version": "3.12.4"
  }
 },
 "nbformat": 4,
 "nbformat_minor": 2
}
